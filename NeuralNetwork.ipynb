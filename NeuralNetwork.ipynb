{
 "cells": [
  {
   "cell_type": "markdown",
   "metadata": {},
   "source": [
    "to do: save loss graph"
   ]
  },
  {
   "cell_type": "markdown",
   "metadata": {},
   "source": [
    "**Cupy Implementation:**\n",
    "https://drive.google.com/file/d/1H0GM2wDFFx4z0NBj7f-g-DfyaR4lpWi-/view?usp=sharing"
   ]
  },
  {
   "cell_type": "code",
   "execution_count": 179,
   "metadata": {},
   "outputs": [
    {
     "name": "stdout",
     "output_type": "stream",
     "text": [
      "Requirement already satisfied: numpy in c:\\users\\davis\\appdata\\local\\programs\\python\\python312\\lib\\site-packages (2.2.2)\n",
      "Requirement already satisfied: keras in c:\\users\\davis\\appdata\\local\\programs\\python\\python312\\lib\\site-packages (3.8.0)\n",
      "Requirement already satisfied: matplotlib in c:\\users\\davis\\appdata\\local\\programs\\python\\python312\\lib\\site-packages (3.10.0)\n",
      "Requirement already satisfied: tqdm in c:\\users\\davis\\appdata\\local\\programs\\python\\python312\\lib\\site-packages (4.66.4)\n",
      "Requirement already satisfied: pickle-mixin in c:\\users\\davis\\appdata\\local\\programs\\python\\python312\\lib\\site-packages (1.0.2)\n",
      "Requirement already satisfied: absl-py in c:\\users\\davis\\appdata\\local\\programs\\python\\python312\\lib\\site-packages (from keras) (2.1.0)\n",
      "Requirement already satisfied: rich in c:\\users\\davis\\appdata\\local\\programs\\python\\python312\\lib\\site-packages (from keras) (13.9.4)\n",
      "Requirement already satisfied: namex in c:\\users\\davis\\appdata\\local\\programs\\python\\python312\\lib\\site-packages (from keras) (0.0.8)\n",
      "Requirement already satisfied: h5py in c:\\users\\davis\\appdata\\local\\programs\\python\\python312\\lib\\site-packages (from keras) (3.12.1)\n",
      "Requirement already satisfied: optree in c:\\users\\davis\\appdata\\local\\programs\\python\\python312\\lib\\site-packages (from keras) (0.13.1)\n",
      "Requirement already satisfied: ml-dtypes in c:\\users\\davis\\appdata\\local\\programs\\python\\python312\\lib\\site-packages (from keras) (0.4.1)\n",
      "Requirement already satisfied: packaging in c:\\users\\davis\\appdata\\local\\programs\\python\\python312\\lib\\site-packages (from keras) (24.1)\n",
      "Requirement already satisfied: contourpy>=1.0.1 in c:\\users\\davis\\appdata\\local\\programs\\python\\python312\\lib\\site-packages (from matplotlib) (1.2.1)\n",
      "Requirement already satisfied: cycler>=0.10 in c:\\users\\davis\\appdata\\local\\programs\\python\\python312\\lib\\site-packages (from matplotlib) (0.12.1)\n",
      "Requirement already satisfied: fonttools>=4.22.0 in c:\\users\\davis\\appdata\\local\\programs\\python\\python312\\lib\\site-packages (from matplotlib) (4.53.1)\n",
      "Requirement already satisfied: kiwisolver>=1.3.1 in c:\\users\\davis\\appdata\\local\\programs\\python\\python312\\lib\\site-packages (from matplotlib) (1.4.5)\n",
      "Requirement already satisfied: pillow>=8 in c:\\users\\davis\\appdata\\local\\programs\\python\\python312\\lib\\site-packages (from matplotlib) (10.4.0)\n",
      "Requirement already satisfied: pyparsing>=2.3.1 in c:\\users\\davis\\appdata\\local\\programs\\python\\python312\\lib\\site-packages (from matplotlib) (3.1.2)\n",
      "Requirement already satisfied: python-dateutil>=2.7 in c:\\users\\davis\\appdata\\local\\programs\\python\\python312\\lib\\site-packages (from matplotlib) (2.9.0.post0)\n",
      "Requirement already satisfied: colorama in c:\\users\\davis\\appdata\\roaming\\python\\python312\\site-packages (from tqdm) (0.4.6)\n",
      "Requirement already satisfied: six>=1.5 in c:\\users\\davis\\appdata\\local\\programs\\python\\python312\\lib\\site-packages (from python-dateutil>=2.7->matplotlib) (1.16.0)\n",
      "Requirement already satisfied: typing-extensions>=4.5.0 in c:\\users\\davis\\appdata\\local\\programs\\python\\python312\\lib\\site-packages (from optree->keras) (4.12.2)\n",
      "Requirement already satisfied: markdown-it-py>=2.2.0 in c:\\users\\davis\\appdata\\local\\programs\\python\\python312\\lib\\site-packages (from rich->keras) (3.0.0)\n",
      "Requirement already satisfied: pygments<3.0.0,>=2.13.0 in c:\\users\\davis\\appdata\\roaming\\python\\python312\\site-packages (from rich->keras) (2.18.0)\n",
      "Requirement already satisfied: mdurl~=0.1 in c:\\users\\davis\\appdata\\local\\programs\\python\\python312\\lib\\site-packages (from markdown-it-py>=2.2.0->rich->keras) (0.1.2)\n",
      "Note: you may need to restart the kernel to use updated packages.\n"
     ]
    }
   ],
   "source": [
    "%pip install numpy keras matplotlib tqdm pickle-mixin"
   ]
  },
  {
   "cell_type": "code",
   "execution_count": 180,
   "metadata": {},
   "outputs": [],
   "source": [
    "from numpy.typing import NDArray\n",
    "from typing import Dict\n",
    "import numpy as np\n",
    "import keras\n",
    "import matplotlib.pyplot as plt\n",
    "from tqdm import tqdm\n",
    "import pickle"
   ]
  },
  {
   "cell_type": "markdown",
   "metadata": {},
   "source": [
    "**Data**\n",
    "\n",
    "It is important to note that in this implementation, different examples are in different columns."
   ]
  },
  {
   "cell_type": "code",
   "execution_count": 181,
   "metadata": {},
   "outputs": [],
   "source": [
    "(x_train, y_train), (x_test, y_test) = keras.datasets.mnist.load_data(path=\"mnist.npz\")\n",
    "\n",
    "x_train = np.reshape(x_train, (x_train.shape[0], -1))\n",
    "m = x_train.shape[0]\n",
    "\n",
    "x_test = np.reshape(x_test, (x_test.shape[0], -1))\n",
    "m_t = x_test.shape[0]\n",
    "\n",
    "def one_hot_encoding(size, Y):\n",
    "    ny = np.zeros(size)\n",
    "    for i in range(size[0]):\n",
    "        ny[i, Y[i]] = 1\n",
    "    return ny\n",
    "\n",
    "y_train = (one_hot_encoding((m, 10), y_train)).T\n",
    "y_test = (y_test.reshape(1, -1))\n",
    "x_train = x_train.T\n",
    "x_test = x_test.T"
   ]
  },
  {
   "cell_type": "markdown",
   "metadata": {},
   "source": [
    "**Neural Network Implementation**\n",
    "\n",
    "This implementation assumes that no Softmax layer will be used outside the output layer."
   ]
  },
  {
   "cell_type": "code",
   "execution_count": 182,
   "metadata": {},
   "outputs": [],
   "source": [
    "class Scalar:\n",
    "\n",
    "    @staticmethod\n",
    "    def z_score(data: NDArray[np.float64]) -> NDArray[np.float64]:\n",
    "        mean: int = np.mean(data, axis=0)\n",
    "        std: int = np.std(data, axis=0)\n",
    "        std[std == 0] = 1\n",
    "        return (data - mean) / std"
   ]
  },
  {
   "cell_type": "code",
   "execution_count": 183,
   "metadata": {},
   "outputs": [],
   "source": [
    "class Layer:\n",
    "    __supported_activations: list[str] = [\"linear\",\"relu\",\"softmax\"]\n",
    "\n",
    "    def __init__(self, size: int, activation: str = \"linear\") -> None:\n",
    "        if activation not in Layer.__supported_activations:\n",
    "            raise ValueError(f\"Parameter 'activation' not supported, please enter one of the following: {', '.join(Layer.__supported_activations)}\")\n",
    "        self.__size: int = size\n",
    "        self.__activation: str = activation\n",
    "        self.__parent: Layer = None\n",
    "        self.__child: Layer = None\n",
    "        self.__W: NDArray[np.float64] = None\n",
    "        self.__B: NDArray[np.float64] = None\n",
    "        self.__A: NDArray[np.float64] = None\n",
    "        self.__dZ: NDArray[np.float64] = None\n",
    "\n",
    "    def __str__(self) -> str:\n",
    "        return f\"ID: {self.__id} | Neurons: {self.__size} | Activation: {self.__activation}\"\n",
    "\n",
    "    def set_parent(self, parent: \"Layer\") -> None:\n",
    "        self.__parent = parent\n",
    "\n",
    "    def get_parent(self) -> \"Layer\":\n",
    "        return self.__parent\n",
    "\n",
    "    def set_child(self, child: \"Layer\") -> None:\n",
    "        self.__child = child\n",
    "\n",
    "    def get_child(self) -> \"Layer\":\n",
    "        return self.__child\n",
    "\n",
    "    def set_id(self, id: int) -> None:\n",
    "        self.__id = id\n",
    "\n",
    "    def get_id(self) -> int:\n",
    "        return self.__id\n",
    "\n",
    "    def get_size(self) -> int:\n",
    "        return self.__size\n",
    "\n",
    "    def get_activation(self) -> str:\n",
    "        return self.__activation\n",
    "    \n",
    "    def get_dz(self) -> NDArray[np.float64]:\n",
    "        return self.__dZ\n",
    "\n",
    "    def set_dz(self, dZ: NDArray[np.float64]) -> None:\n",
    "        self.__dZ: NDArray[np.float64] = dZ\n",
    "\n",
    "    # New layers\n",
    "    def set_neurons(self) -> None:\n",
    "        if self.__parent:\n",
    "            parent_size: int = self.__parent.get_size()\n",
    "            self.__W: NDArray[np.float64] = np.random.normal(0, 0.05, size=(self.__size, parent_size))\n",
    "            self.__B: NDArray[np.float64] = np.zeros((self.__size, 1))\n",
    "            self.__A: NDArray[np.float64] = np.zeros((self.__size, 1))\n",
    "\n",
    "    def get_value(self) -> NDArray[np.float64]:\n",
    "        return self.__A\n",
    "    \n",
    "    def get_parameters(self) -> list[NDArray[np.float64]]:\n",
    "        return self.__W, self.__B\n",
    "    \n",
    "    def set_parameters(self, W: NDArray[np.float64], B: NDArray[np.float64]) -> None:\n",
    "        self.__W = W\n",
    "        self.__B = B\n",
    "    \n",
    "    def update_parameters(self, learning_rate: float, dW: NDArray[np.float64], dB: NDArray[np.float64]):\n",
    "        self.__W -= learning_rate * dW\n",
    "        self.__B -= learning_rate * dB\n",
    "\n",
    "    def set_input(self, input: NDArray[np.float64]) -> None:\n",
    "        self.__A  = input\n",
    "\n",
    "    def activation_function(self, Z: NDArray[np.float64]) -> NDArray[np.float64]:\n",
    "        if self.__activation == \"relu\":\n",
    "            return np.maximum(Z, 0)\n",
    "        elif self.__activation == \"softmax\":\n",
    "            exp_Z = np.exp(Z - np.max(Z, axis=0, keepdims=True))\n",
    "            return exp_Z / np.sum(exp_Z, axis=0, keepdims=True)\n",
    "        else:\n",
    "            return Z\n",
    "\n",
    "    def forward(self) -> None:\n",
    "        if self.__parent:\n",
    "            Z = np.matmul(self.__W, self.__parent.get_value()) + self.__B\n",
    "            self.__A = self.activation_function(Z)\n"
   ]
  },
  {
   "cell_type": "code",
   "execution_count": 184,
   "metadata": {},
   "outputs": [],
   "source": [
    "class Loss:\n",
    "    __supported_losses: list[str] = [\"CCEL\"]\n",
    "    __supported_regularizations: list[str] = [\"none\", \"L2\"]\n",
    "\n",
    "    def __init__(self, loss: str = \"CCEL\", learning_rate: float = 1e-4, regularization: str = \"none\", lambda_: float = 0.01, batch_size: int = 32) -> None:\n",
    "        if loss not in Loss.__supported_losses:\n",
    "            raise ValueError(f\"Parameter 'loss' not supported, please enter one of the following: {', '.join(Loss.__supported_losses)}\")\n",
    "        if regularization not in Loss.__supported_regularizations:\n",
    "            raise ValueError(f\"Parameter 'regularization' not supported, please enter one of the following: {', '.join(Loss.__supported_regularizations)}\")\n",
    "        \n",
    "        self.__loss: str = loss\n",
    "        self.__learning_rate: float = learning_rate\n",
    "        self.__regularization: str = regularization\n",
    "        self.__lambda: float = lambda_\n",
    "        self.__batch_size: int = batch_size\n",
    "    \n",
    "    def get_loss(self) -> str:\n",
    "        return self.__loss\n",
    "    \n",
    "    def get_learning_rate(self) -> float:\n",
    "        return self.__learning_rate\n",
    "    \n",
    "    def get_regularization(self) -> str:\n",
    "        return self.__regularization\n",
    "    \n",
    "    def get_lambda(self) -> float:\n",
    "        return self.__lambda\n",
    "    \n",
    "    def get_batch_size(self) -> int:\n",
    "        return self.__batch_size\n",
    "\n",
    "    def loss_computation(self, layers: list[Layer], y_batch: NDArray[np.float64]) -> float:\n",
    "        output_layer: Layer = layers[-1]\n",
    "        predictions: NDArray[np.float64] = output_layer.get_value()\n",
    "        \n",
    "        # Categorical Cross-Entropy Loss Computation\n",
    "        if self.__loss == \"CCEL\":\n",
    "            batch_size = y_batch.shape[1]\n",
    "            loss: float = -np.sum(y_batch * np.log(predictions + 1e-9)) / batch_size\n",
    "        \n",
    "        # L2 Regularization\n",
    "        if self.__regularization == \"L2\":\n",
    "            reg_loss = 0.5 * self.__lambda * sum(np.sum(layer.get_parameters()[0] ** 2) \n",
    "                                                 for layer in layers if layer.get_parameters()[0] is not None)\n",
    "            loss += reg_loss / batch_size\n",
    "\n",
    "        return loss"
   ]
  },
  {
   "cell_type": "code",
   "execution_count": 185,
   "metadata": {},
   "outputs": [],
   "source": [
    "class NeuralNetwork:\n",
    "\n",
    "    def __init__(self) -> None:\n",
    "        self.__layers: list[Layer] = []\n",
    "\n",
    "    def __str__(self) -> str:\n",
    "        layers_str = \"\\n\".join(f\"\\t{layer}\" for layer in self.__layers)\n",
    "        return f\"Neural Network:\\n{layers_str}\\nTotal of Parameters: {self.get_num_of_parameters()}\"\n",
    "    \n",
    "    def get_num_of_parameters(self) -> int:\n",
    "        num: int = 0\n",
    "        for layer in self.__layers:\n",
    "            W, B = layer.get_parameters()\n",
    "            if W is not None and B is not None:\n",
    "                num += W.shape[0] * W.shape[1] + B.shape[0]\n",
    "        return num\n",
    "\n",
    "    # Hidden layers can only be linear or ReLU\n",
    "    def build(self, layers: list[Layer]) -> None:\n",
    "        self.__layers: list[Layer] = layers\n",
    "        # Updating layers' relationships\n",
    "        layers[0].set_id(0)\n",
    "        for i in range(1, len(layers)):\n",
    "            layers[i].set_parent(layers[i - 1])\n",
    "            layers[i - 1].set_child(layers[i])\n",
    "            layers[i].set_neurons()\n",
    "            layers[i].set_id(i)\n",
    "\n",
    "    def fit_data(self, input: NDArray[np.float64], target: NDArray[np.float64]) -> None:\n",
    "        # An input with P features and Q examples should have the shape (P,Q)\n",
    "        # A target should have the shape (K,Q)\n",
    "        if input.shape[0] != self.__layers[0].get_size():\n",
    "            raise ValueError(f\"At the input layer, supported size is: ({self.__layers[0].get_size()},n?), received: {input.shape}\")\n",
    "        if target.shape[0] != self.__layers[-1].get_size():\n",
    "            raise ValueError(f\"At the target layer, supported size is: ({self.__layers[-1].get_size()},n?), received: {target.shape}\")\n",
    "        \n",
    "        self.__input: NDArray[np.float64] = input\n",
    "        self.__target: NDArray[np.float64] = target\n",
    "        \n",
    "        # Creating weight matrix W, bias vector B, and value vector A for every layer\n",
    "        # For a specifc layer containing K neurons, having a parent layer containing N neurons:\n",
    "        # W shape: (K,N) | B shape: (K,1) | A shape: (K,1)\n",
    "        for layer in self.__layers:\n",
    "            layer.set_neurons()\n",
    "\n",
    "    def forward_propagation(self, x_batch: NDArray[np.float64]) -> None:\n",
    "        self.__layers[0].set_input(x_batch)\n",
    "        for layer in self.__layers[1:]:\n",
    "            layer.forward()\n",
    "\n",
    "    def back_propagation(self, y_batch: NDArray[np.float64]) -> None:\n",
    "        if self.__loss.get_loss() == \"CCEL\":\n",
    "            # Output layer gradient for CCEL with Softmax\n",
    "            output_layer = self.__layers[-1]\n",
    "            output_layer.set_dz(output_layer.get_value() - y_batch)\n",
    "\n",
    "            # Backpropagate through hidden layers\n",
    "            for i in range(len(self.__layers) - 2, -1, -1):\n",
    "                layer: Layer = self.__layers[i]\n",
    "                child_layer: Layer = self.__layers[i + 1]\n",
    "\n",
    "                # dA (Gradient of loss with respect to layer's activations)\n",
    "                dA: NDArray[np.float64] = np.matmul(child_layer.get_parameters()[0].T, child_layer.get_dz())\n",
    "\n",
    "                if layer.get_activation() == \"relu\":\n",
    "                    dZ: NDArray[np.float64] = dA * (layer.get_value() > 0)\n",
    "                else:\n",
    "                    dZ: NDArray[np.float64] = dA\n",
    "                \n",
    "                layer.set_dz(dZ)\n",
    "        \n",
    "            # Updating parameters\n",
    "            learning_rate: float = self.__loss.get_learning_rate()\n",
    "            for layer in self.__layers[1:]:\n",
    "                dW: NDArray[np.float64] = np.matmul(layer.get_dz(), layer.get_parent().get_value().T) / y_batch.shape[1]\n",
    "                dB: NDArray[np.float64] = np.sum(layer.get_dz(), axis=1, keepdims=True) / y_batch.shape[1]\n",
    "\n",
    "                if self.__loss.get_regularization() == \"L2\":\n",
    "                    dW += self.__loss.get_lambda() * layer.get_parameters()[0]\n",
    "\n",
    "                layer.update_parameters(learning_rate, dW, dB)\n",
    "\n",
    "    def train(self, epochs: int, loss: Loss = Loss()):\n",
    "        self.__loss: Loss = loss\n",
    "        batch_size = self.__loss.get_batch_size()\n",
    "        loss_hist: list[float] = []\n",
    "        num_samples = self.__input.shape[1]\n",
    "        \n",
    "        for epoch in tqdm(range(epochs)):\n",
    "            indices = np.random.permutation(num_samples)  # Shuffle dataset\n",
    "            for batch_start in range(0, num_samples, batch_size):\n",
    "                batch_indices = indices[batch_start:batch_start + batch_size]\n",
    "                x_batch = self.__input[:, batch_indices]\n",
    "                y_batch = self.__target[:, batch_indices]\n",
    "                \n",
    "                self.forward_propagation(x_batch)\n",
    "                self.back_propagation(y_batch)\n",
    "                loss_hist.append(self.__loss.loss_computation(self.__layers, y_batch))\n",
    "        \n",
    "        return loss_hist\n",
    "\n",
    "    def get_results(self) -> NDArray[np.float64]:\n",
    "        return self.__layers[-1].get_value()\n",
    "    \n",
    "    def get_parameters(self) -> Dict[int, list[NDArray[np.float64]]]:\n",
    "      parameters = {}\n",
    "      for i, layer in enumerate(self.__layers):\n",
    "          parameters[i] = layer.get_parameters()\n",
    "      return parameters\n",
    "\n",
    "    def set_nn_parameters(self, parameters: Dict[int, list[NDArray[np.float64]]]) -> None:\n",
    "      for i, (W, B) in parameters.items():\n",
    "          self.__layers[i].set_parameters(W, B)\n",
    "\n",
    "    def test(self, test_input: NDArray[np.float64], test_target: NDArray[np.float64]) -> float:\n",
    "        test_predictions: NDArray[np.int64] = self.predict(test_input)  # Shape: (1, m)\n",
    "        if test_target.shape[0] > 1:  # If shape is (10, m), convert it\n",
    "            test_target = np.argmax(test_target, axis=0).reshape(1, -1)  # Shape: (1, m)\n",
    "        correct_predictions: int = np.sum(test_predictions == test_target)\n",
    "        total_samples: int = test_target.shape[1]\n",
    "        accuracy: float = correct_predictions / total_samples\n",
    "        return accuracy\n",
    "\n",
    "\n",
    "    def predict(self, input: NDArray[np.float64]) -> NDArray[np.int64]:\n",
    "        self.__layers[0].set_input(input)\n",
    "        for layer in self.__layers[1:]:\n",
    "            layer.forward()\n",
    "        probabilities: NDArray[np.float64] = self.get_results()\n",
    "        predictions: NDArray[np.int64] = np.argmax(probabilities, axis=0).reshape(1, -1)\n",
    "        return predictions"
   ]
  },
  {
   "cell_type": "markdown",
   "metadata": {},
   "source": [
    "**Defining the neural network**\n",
    "\n",
    "To load predefined weights, use the `set_nn_parameters()` from the `NeuralNetwork` class."
   ]
  },
  {
   "cell_type": "code",
   "execution_count": null,
   "metadata": {},
   "outputs": [
    {
     "name": "stdout",
     "output_type": "stream",
     "text": [
      "Neural Network:\n",
      "\tID: 0 | Neurons: 784 | Activation: linear\n",
      "\tID: 1 | Neurons: 128 | Activation: relu\n",
      "\tID: 2 | Neurons: 128 | Activation: relu\n",
      "\tID: 3 | Neurons: 10 | Activation: softmax\n",
      "Total of Parameters: 118282\n"
     ]
    }
   ],
   "source": [
    "model = NeuralNetwork()\n",
    "model.build([\n",
    "    Layer(784),\n",
    "    Layer(128, \"relu\"),\n",
    "    Layer(128, \"relu\"),\n",
    "    Layer(10, \"softmax\")\n",
    "])\n",
    "\n",
    "scaled_x = Scalar().z_score(x_train)\n",
    "model.fit_data(scaled_x, y_train)\n",
    "\n",
    "with open('nn_parameters.pkl', 'rb') as f:\n",
    "    parameters: Dict[int, list[NDArray[np.float64]]] = pickle.load(f)\n",
    "model.set_nn_parameters(parameters)\n",
    "\n",
    "print(model)"
   ]
  },
  {
   "cell_type": "markdown",
   "metadata": {},
   "source": [
    "**Training the neural network**"
   ]
  },
  {
   "cell_type": "code",
   "execution_count": null,
   "metadata": {},
   "outputs": [
    {
     "name": "stderr",
     "output_type": "stream",
     "text": [
      "100%|██████████| 2000/2000 [23:48<00:00,  1.40it/s]\n"
     ]
    },
    {
     "data": {
      "image/png": "[encoded data removed]",
      "text/plain": [
       "<Figure size 800x500 with 1 Axes>"
      ]
     },
     "metadata": {},
     "output_type": "display_data"
    }
   ],
   "source": [
    "epochs = 1300\n",
    "loss_hist = []\n",
    "\n",
    "with open('nn_loss.pkl', 'rb') as f:\n",
    "    loss_hist += pickle.load(f)\n",
    "\n",
    "loss_hist += model.train(epochs, Loss(learning_rate=5e-2, regularization=\"L2\", lambda_=1e-3, batch_size=60000))\n",
    "\n",
    "plt.figure(figsize=(8, 5))\n",
    "plt.plot(range(len(loss_hist)), loss_hist)\n",
    "plt.xlabel(\"Iterations\", fontsize=12)\n",
    "plt.ylabel(\"Loss\", fontsize=12)\n",
    "plt.title(\"Model's Loss\", fontsize=14)\n",
    "plt.grid()\n",
    "plt.yscale(\"log\")\n",
    "plt.tight_layout()\n",
    "plt.show()"
   ]
  },
  {
   "cell_type": "markdown",
   "metadata": {},
   "source": [
    "**Testing the model**"
   ]
  },
  {
   "cell_type": "code",
   "execution_count": 188,
   "metadata": {},
   "outputs": [
    {
     "name": "stdout",
     "output_type": "stream",
     "text": [
      "Model's accuracy: 96.46%\n"
     ]
    }
   ],
   "source": [
    "scaled_x_test = Scalar().z_score(x_test)\n",
    "accuracy = model.test(scaled_x_test, y_test)\n",
    "print(f\"Model's accuracy: {(accuracy * 100):.2f}%\")"
   ]
  },
  {
   "cell_type": "markdown",
   "metadata": {},
   "source": [
    "**Saving the neural network parameters**"
   ]
  },
  {
   "cell_type": "code",
   "execution_count": 189,
   "metadata": {},
   "outputs": [],
   "source": [
    "with open('nn_parameters.pkl', 'wb') as f:\n",
    "   pickle.dump(model.get_parameters(), f)"
   ]
  },
  {
   "cell_type": "markdown",
   "metadata": {},
   "source": [
    "**Saving the Loss history**"
   ]
  },
  {
   "cell_type": "code",
   "execution_count": 190,
   "metadata": {},
   "outputs": [],
   "source": [
    "with open('nn_loss.pkl', 'wb') as f:\n",
    "    pickle.dump(loss_hist, f)   "
   ]
  }
 ],
 "metadata": {
  "kernelspec": {
   "display_name": "Python 3",
   "language": "python",
   "name": "python3"
  },
  "language_info": {
   "codemirror_mode": {
    "name": "ipython",
    "version": 3
   },
   "file_extension": ".py",
   "mimetype": "text/x-python",
   "name": "python",
   "nbconvert_exporter": "python",
   "pygments_lexer": "ipython3",
   "version": "3.12.4"
  }
 },
 "nbformat": 4,
 "nbformat_minor": 2
}

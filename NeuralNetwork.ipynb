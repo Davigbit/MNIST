{
 "cells": [
  {
   "cell_type": "markdown",
   "metadata": {},
   "source": [
    "**To-Do:**\n",
    "- Backpropagation\n",
    "- Scaling Class"
   ]
  },
  {
   "cell_type": "code",
   "execution_count": 15,
   "metadata": {},
   "outputs": [],
   "source": [
    "from numpy.typing import NDArray\n",
    "import numpy as np"
   ]
  },
  {
   "cell_type": "code",
   "execution_count": 16,
   "metadata": {},
   "outputs": [],
   "source": [
    "class Layer:\n",
    "    __supported_activations: list[str] = [\"linear\",\"relu\",\"softmax\"]\n",
    "\n",
    "    def __init__(self, size: int, activation: str = \"linear\") -> None:\n",
    "        if activation not in Layer.__supported_activations:\n",
    "            raise ValueError(f\"Parameter 'activation' not supported, please enter one of the following: {', '.join(Layer.__supported_activations)}\")\n",
    "        self.__size: int = size\n",
    "        self.__activation: str = activation\n",
    "        self.__parent: Layer = None\n",
    "        self.__child: Layer = None\n",
    "\n",
    "    def set_parent(self, parent: \"Layer\") -> None:\n",
    "        self.__parent = parent\n",
    "\n",
    "    def get_parent(self) -> \"Layer\":\n",
    "        return self.__parent\n",
    "\n",
    "    def set_child(self, child: \"Layer\") -> None:\n",
    "        self.__child = child\n",
    "\n",
    "    def get_child(self) -> \"Layer\":\n",
    "        return self.__child\n",
    "\n",
    "    def set_id(self, id: int) -> None:\n",
    "        self.__id = id\n",
    "\n",
    "    def get_id(self) -> int:\n",
    "        return self.__id\n",
    "\n",
    "    def get_size(self) -> int:\n",
    "        return self.__size\n",
    "\n",
    "    def get_activation(self) -> str:\n",
    "        return self.__activation\n",
    "\n",
    "    def set_matrices(self) -> None:\n",
    "        if self.__parent:\n",
    "            parent_size: int = self.__parent.get_size()\n",
    "            self.__W: NDArray[np.float64] = np.random.normal(0, 0.01, size=(self.__size, parent_size))\n",
    "            self.__B: NDArray[np.float64] = np.random.normal(0, 0.01, size=(self.__size, 1))\n",
    "            self.__A: NDArray[np.float64] = np.zeros((self.__size, 1))\n",
    "        else:\n",
    "            self.__W: NDArray[np.float64] = None\n",
    "            self.__B: NDArray[np.float64] = None\n",
    "            self.__A: NDArray[np.float64] = None\n",
    "\n",
    "    def get_value(self) -> NDArray[np.float64]:\n",
    "        return self.__A\n",
    "\n",
    "    def set_input(self, input: NDArray[np.float64]) -> None:\n",
    "        self.__A  = input\n",
    "\n",
    "    def g(self, input: NDArray[np.float64]) -> NDArray[np.float64]:\n",
    "        if self.__activation == \"relu\":\n",
    "            return np.maximum(input, 0)\n",
    "        elif self.__activation == \"softmax\":\n",
    "            nominator: NDArray[np.float64] = np.exp(input)\n",
    "            denominator: int = np.sum(nominator)\n",
    "            return nominator / denominator\n",
    "        else:\n",
    "            return input\n",
    "\n",
    "    def forward(self) -> None:\n",
    "        self.__A = self.g(np.matmul(self.__W, self.__parent.get_value()) + self.__B)\n"
   ]
  },
  {
   "cell_type": "code",
   "execution_count": 17,
   "metadata": {},
   "outputs": [],
   "source": [
    "class NeuralNetwork:\n",
    "\n",
    "    def build(self, layers: list[Layer]) -> None:\n",
    "        self.__layers: list[Layer] = layers\n",
    "\n",
    "        # Updating layers' relationships\n",
    "        current: Layer = None\n",
    "        id: int = 0\n",
    "        for layer in layers:\n",
    "            if current:\n",
    "                current.set_child(layer)\n",
    "                layer.set_parent(current)\n",
    "            layer.set_id(id)\n",
    "            current = layer\n",
    "\n",
    "    def fit_data(self, input: NDArray[np.float64], target: NDArray[np.float64]) -> None:\n",
    "        if input.size != self.__layers[0].get_size():\n",
    "            raise ValueError(f\"At the input layer, supported size is: {self.__layers[0].get_size()}, received: {input.size}\")\n",
    "        if target.size != self.__layers[-1].get_size():\n",
    "            raise ValueError(f\"At the target layer, supported size is: {self.__layers[-1].get_size()}, received: {target.size}\")\n",
    "        \n",
    "        self.__target: NDArray[np.float64] = target\n",
    "        \n",
    "        # Creating weight matrix W, bias vector B, and value vector A for every layer\n",
    "        # For a specifc layer containing K neurons, having a parent layer containing N neurons:\n",
    "        # W size: (K,N) | B size: (K,1) | A size: (K,1)\n",
    "        for layer in self.__layers:\n",
    "            layer.set_matrices()\n",
    "        self.__layers[0].set_input(input)\n",
    "\n",
    "    def forward_propagation(self) -> None:\n",
    "        for layer in self.__layers:\n",
    "            if layer.get_parent():\n",
    "                layer.forward()\n",
    "\n",
    "    def get_results(self) -> NDArray[np.float64]:\n",
    "        return self.__layers[-1].get_value()"
   ]
  },
  {
   "cell_type": "code",
   "execution_count": 18,
   "metadata": {},
   "outputs": [
    {
     "name": "stdout",
     "output_type": "stream",
     "text": [
      "[[0.33117408]\n",
      " [0.33419202]\n",
      " [0.33463391]]\n"
     ]
    }
   ],
   "source": [
    "test = NeuralNetwork()\n",
    "test.build([\n",
    "    Layer(3),\n",
    "    Layer(10,\"relu\"),\n",
    "    Layer(4,\"relu\"),\n",
    "    Layer(20,\"relu\"),\n",
    "    Layer(3,\"softmax\")\n",
    "])\n",
    "test.fit_data(np.array([[0.3],[0.2],[0.4]]),np.array([[0.3],[0.2],[0.4]]))\n",
    "test.forward_propagation()\n",
    "print(test.get_results())"
   ]
  }
 ],
 "metadata": {
  "kernelspec": {
   "display_name": "Python 3",
   "language": "python",
   "name": "python3"
  },
  "language_info": {
   "codemirror_mode": {
    "name": "ipython",
    "version": 3
   },
   "file_extension": ".py",
   "mimetype": "text/x-python",
   "name": "python",
   "nbconvert_exporter": "python",
   "pygments_lexer": "ipython3",
   "version": "3.12.4"
  }
 },
 "nbformat": 4,
 "nbformat_minor": 2
}

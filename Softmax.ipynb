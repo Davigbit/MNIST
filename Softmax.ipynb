{
 "cells": [
  {
   "cell_type": "code",
   "execution_count": 189,
   "metadata": {},
   "outputs": [
    {
     "name": "stdout",
     "output_type": "stream",
     "text": [
      "Requirement already satisfied: numpy in c:\\users\\davis\\appdata\\local\\programs\\python\\python312\\lib\\site-packages (2.2.2)\n",
      "Requirement already satisfied: keras in c:\\users\\davis\\appdata\\local\\programs\\python\\python312\\lib\\site-packages (3.8.0)\n",
      "Requirement already satisfied: matplotlib in c:\\users\\davis\\appdata\\local\\programs\\python\\python312\\lib\\site-packages (3.10.0)\n",
      "Requirement already satisfied: tqdm in c:\\users\\davis\\appdata\\local\\programs\\python\\python312\\lib\\site-packages (4.66.4)\n",
      "Requirement already satisfied: absl-py in c:\\users\\davis\\appdata\\local\\programs\\python\\python312\\lib\\site-packages (from keras) (2.1.0)\n",
      "Requirement already satisfied: rich in c:\\users\\davis\\appdata\\local\\programs\\python\\python312\\lib\\site-packages (from keras) (13.9.4)\n",
      "Requirement already satisfied: namex in c:\\users\\davis\\appdata\\local\\programs\\python\\python312\\lib\\site-packages (from keras) (0.0.8)\n",
      "Requirement already satisfied: h5py in c:\\users\\davis\\appdata\\local\\programs\\python\\python312\\lib\\site-packages (from keras) (3.12.1)\n",
      "Requirement already satisfied: optree in c:\\users\\davis\\appdata\\local\\programs\\python\\python312\\lib\\site-packages (from keras) (0.13.1)\n",
      "Requirement already satisfied: ml-dtypes in c:\\users\\davis\\appdata\\local\\programs\\python\\python312\\lib\\site-packages (from keras) (0.4.1)\n",
      "Requirement already satisfied: packaging in c:\\users\\davis\\appdata\\local\\programs\\python\\python312\\lib\\site-packages (from keras) (24.1)\n",
      "Requirement already satisfied: contourpy>=1.0.1 in c:\\users\\davis\\appdata\\local\\programs\\python\\python312\\lib\\site-packages (from matplotlib) (1.2.1)\n",
      "Requirement already satisfied: cycler>=0.10 in c:\\users\\davis\\appdata\\local\\programs\\python\\python312\\lib\\site-packages (from matplotlib) (0.12.1)\n",
      "Requirement already satisfied: fonttools>=4.22.0 in c:\\users\\davis\\appdata\\local\\programs\\python\\python312\\lib\\site-packages (from matplotlib) (4.53.1)\n",
      "Requirement already satisfied: kiwisolver>=1.3.1 in c:\\users\\davis\\appdata\\local\\programs\\python\\python312\\lib\\site-packages (from matplotlib) (1.4.5)\n",
      "Requirement already satisfied: pillow>=8 in c:\\users\\davis\\appdata\\local\\programs\\python\\python312\\lib\\site-packages (from matplotlib) (10.4.0)\n",
      "Requirement already satisfied: pyparsing>=2.3.1 in c:\\users\\davis\\appdata\\local\\programs\\python\\python312\\lib\\site-packages (from matplotlib) (3.1.2)\n",
      "Requirement already satisfied: python-dateutil>=2.7 in c:\\users\\davis\\appdata\\local\\programs\\python\\python312\\lib\\site-packages (from matplotlib) (2.9.0.post0)\n",
      "Requirement already satisfied: colorama in c:\\users\\davis\\appdata\\roaming\\python\\python312\\site-packages (from tqdm) (0.4.6)\n",
      "Requirement already satisfied: six>=1.5 in c:\\users\\davis\\appdata\\local\\programs\\python\\python312\\lib\\site-packages (from python-dateutil>=2.7->matplotlib) (1.16.0)\n",
      "Requirement already satisfied: typing-extensions>=4.5.0 in c:\\users\\davis\\appdata\\local\\programs\\python\\python312\\lib\\site-packages (from optree->keras) (4.12.2)\n",
      "Requirement already satisfied: markdown-it-py>=2.2.0 in c:\\users\\davis\\appdata\\local\\programs\\python\\python312\\lib\\site-packages (from rich->keras) (3.0.0)\n",
      "Requirement already satisfied: pygments<3.0.0,>=2.13.0 in c:\\users\\davis\\appdata\\roaming\\python\\python312\\site-packages (from rich->keras) (2.18.0)\n",
      "Requirement already satisfied: mdurl~=0.1 in c:\\users\\davis\\appdata\\local\\programs\\python\\python312\\lib\\site-packages (from markdown-it-py>=2.2.0->rich->keras) (0.1.2)\n",
      "Note: you may need to restart the kernel to use updated packages.\n"
     ]
    }
   ],
   "source": [
    "%pip install numpy keras matplotlib tqdm"
   ]
  },
  {
   "cell_type": "code",
   "execution_count": 190,
   "metadata": {},
   "outputs": [],
   "source": [
    "import numpy as np\n",
    "import keras\n",
    "import matplotlib.pyplot as plt\n",
    "from tqdm import tqdm"
   ]
  },
  {
   "cell_type": "markdown",
   "metadata": {},
   "source": [
    "**Data Manipulation:**"
   ]
  },
  {
   "cell_type": "code",
   "execution_count": 191,
   "metadata": {},
   "outputs": [],
   "source": [
    "(x_train, y_train), (x_test, y_test) = keras.datasets.mnist.load_data(path=\"mnist.npz\")\n",
    "\n",
    "x_train = np.reshape(x_train, (x_train.shape[0], -1)) / 255\n",
    "x_test = np.reshape(x_test, (x_test.shape[0], -1)) / 255\n",
    "\n",
    "# m: Number of train images\n",
    "# n: Number of pixels\n",
    "# m_t: Number of test images\n",
    "m,n = x_train.shape\n",
    "m_t = x_test.shape[0]\n",
    "\n",
    "def one_hot_encoding(size, Y):\n",
    "    ny = np.zeros(size)\n",
    "    for i in range(size[0]):\n",
    "        ny[i,Y[i]] = 1\n",
    "    return ny\n",
    "\n",
    "y_train = one_hot_encoding((m,10), y_train)\n",
    "y_test = one_hot_encoding((m_t,10), y_test)\n",
    "\n",
    "W = np.random.normal(0, 0.01, (n, 10))\n",
    "B = np.random.normal(0, 0.01, (1, 10))"
   ]
  },
  {
   "cell_type": "markdown",
   "metadata": {},
   "source": [
    "**Model Functions:**"
   ]
  },
  {
   "cell_type": "code",
   "execution_count": 192,
   "metadata": {},
   "outputs": [],
   "source": [
    "def softmax_predictions(X, W, B):\n",
    "    Z = np.matmul(X,W) + B\n",
    "    Z = np.clip(Z, -700, 700)\n",
    "    EXP = np.exp(Z)\n",
    "    CD = np.reshape(np.sum(EXP, axis=1),(Z.shape[0],1))\n",
    "    H = EXP / CD\n",
    "    return H\n",
    "\n",
    "def gradients(X, Y, H, lambda_):\n",
    "    common_factor = H - Y\n",
    "    GB = np.matmul(np.ones((1,m)),common_factor)\n",
    "    GW = np.matmul(X.T,common_factor) + lambda_\n",
    "    return GW,GB\n",
    "\n",
    "def comp_loss(Y, H, lambda_):\n",
    "    epsilon = 1e-15\n",
    "    H = np.clip(H, epsilon, 1 - epsilon)\n",
    "    cross_entropy_loss = -1 * np.sum(Y * np.log(H)) / 2\n",
    "    l2_loss = lambda_ * np.sum(W ** 2) / 2\n",
    "    return cross_entropy_loss + l2_loss\n",
    "\n",
    "def train_model(X, Y, W, B, alpha=0.05, epochs=100, lambda_=0.1):\n",
    "    loss_hist = []\n",
    "    for _ in tqdm(range(epochs)):\n",
    "        H = softmax_predictions(X,W,B)\n",
    "        GW,GB = gradients(X,Y,H,lambda_)\n",
    "        W -= alpha*GW\n",
    "        B -= alpha*GB\n",
    "        loss_hist.append(comp_loss(Y,H,lambda_))\n",
    "        alpha *= 0.9999\n",
    "    loss_hist = np.array(loss_hist)\n",
    "    return B,W,loss_hist\n",
    "\n",
    "def test_model(X, Y, W, B):\n",
    "    H = softmax_predictions(X,W,B)\n",
    "    H = np.argmax(H, axis=1)\n",
    "    Y = np.argmax(Y, axis=1)\n",
    "    num_corr = np.sum(H == Y)\n",
    "    acc = num_corr/len(H)\n",
    "    return acc"
   ]
  },
  {
   "cell_type": "markdown",
   "metadata": {},
   "source": [
    "**Model Training:**"
   ]
  },
  {
   "cell_type": "code",
   "execution_count": 193,
   "metadata": {},
   "outputs": [
    {
     "name": "stderr",
     "output_type": "stream",
     "text": [
      "100%|██████████| 5000/5000 [09:44<00:00,  8.55it/s]\n"
     ]
    }
   ],
   "source": [
    "epochs = 5000\n",
    "lambda_ = 0.1\n",
    "alpha = 3e-5\n",
    "B,W,loss_hist = train_model(x_train, y_train, W, B, epochs=epochs, lambda_=lambda_, alpha=alpha)"
   ]
  },
  {
   "cell_type": "markdown",
   "metadata": {},
   "source": [
    "**Training Statistics:**"
   ]
  },
  {
   "cell_type": "code",
   "execution_count": 194,
   "metadata": {},
   "outputs": [
    {
     "data": {
      "image/png": "[encoded data removed]",
      "text/plain": [
       "<Figure size 800x500 with 1 Axes>"
      ]
     },
     "metadata": {},
     "output_type": "display_data"
    },
    {
     "name": "stdout",
     "output_type": "stream",
     "text": [
      "Accuracy: 0.9349\n"
     ]
    }
   ],
   "source": [
    "plt.figure(figsize=(8, 5))\n",
    "plt.plot(range(1, epochs + 1), loss_hist)\n",
    "plt.xlabel(\"Epochs\", fontsize=12)\n",
    "plt.ylabel(\"Loss\", fontsize=12)\n",
    "plt.title(\"Model's Loss\", fontsize=14)\n",
    "plt.yscale(\"log\")\n",
    "plt.grid()\n",
    "plt.tight_layout()\n",
    "plt.show()\n",
    "\n",
    "accuracy = test_model(x_train, y_train, W, B)\n",
    "print(f\"Accuracy: {accuracy:.4f}\")\n"
   ]
  },
  {
   "cell_type": "markdown",
   "metadata": {},
   "source": [
    "**Testing Statistics:**"
   ]
  },
  {
   "cell_type": "code",
   "execution_count": 195,
   "metadata": {},
   "outputs": [
    {
     "name": "stdout",
     "output_type": "stream",
     "text": [
      "Accuracy: 0.9262\n"
     ]
    }
   ],
   "source": [
    "accuracy_test = test_model(x_test, y_test, W, B)\n",
    "print(f\"Accuracy: {accuracy_test:.4f}\")"
   ]
  },
  {
   "cell_type": "markdown",
   "metadata": {},
   "source": [
    "**Saving Parameters:**"
   ]
  },
  {
   "cell_type": "code",
   "execution_count": 196,
   "metadata": {},
   "outputs": [],
   "source": [
    "np.savez(\"parameters_softmax_WB.npz\", array1=W, array2=B)"
   ]
  }
 ],
 "metadata": {
  "kernelspec": {
   "display_name": "Python 3",
   "language": "python",
   "name": "python3"
  },
  "language_info": {
   "codemirror_mode": {
    "name": "ipython",
    "version": 3
   },
   "file_extension": ".py",
   "mimetype": "text/x-python",
   "name": "python",
   "nbconvert_exporter": "python",
   "pygments_lexer": "ipython3",
   "version": "3.12.4"
  }
 },
 "nbformat": 4,
 "nbformat_minor": 2
}
